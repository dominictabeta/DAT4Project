{
 "cells": [
  {
   "cell_type": "code",
   "execution_count": 1,
   "metadata": {
    "collapsed": false
   },
   "outputs": [],
   "source": [
    "\n",
    "%matplotlib inline\n",
    "\n",
    "import pandas as pd\n",
    "import sklearn\n",
    "import numpy as np\n",
    "import matplotlib as mpl\n",
    "import matplotlib.pyplot as plt\n",
    "from sklearn.cross_validation import train_test_split\n",
    "import random\n",
    "mpl.pyplot.style.use('ggplot')\n",
    "from graphviz import Digraph"
   ]
  },
  {
   "cell_type": "code",
   "execution_count": 2,
   "metadata": {
    "collapsed": false
   },
   "outputs": [
    {
     "name": "stderr",
     "output_type": "stream",
     "text": [
      "C:\\Users\\Dom\\Anaconda2\\lib\\site-packages\\IPython\\core\\interactiveshell.py:2723: DtypeWarning: Columns (0,19,55) have mixed types. Specify dtype option on import or set low_memory=False.\n",
      "  interactivity=interactivity, compiler=compiler, result=result)\n"
     ]
    }
   ],
   "source": [
    "loandata = pd.read_csv('../data/LoanStats3d.csv',skiprows=[0])"
   ]
  },
  {
   "cell_type": "code",
   "execution_count": 3,
   "metadata": {
    "collapsed": true
   },
   "outputs": [],
   "source": [
    "completedloans=loandata[(loandata.loan_status=='Charged Off')|(loandata.loan_status=='Fully Paid')]"
   ]
  },
  {
   "cell_type": "code",
   "execution_count": 4,
   "metadata": {
    "collapsed": false
   },
   "outputs": [],
   "source": [
    "# Split into test and training sets. Allocating 80% for training data\n",
    "random.seed(1234)\n",
    "traindata, testdata = train_test_split(completedloans, test_size = 0.2)"
   ]
  },
  {
   "cell_type": "markdown",
   "metadata": {},
   "source": [
    "## Data Cleaning\n"
   ]
  },
  {
   "cell_type": "code",
   "execution_count": 5,
   "metadata": {
    "collapsed": false
   },
   "outputs": [
    {
     "name": "stderr",
     "output_type": "stream",
     "text": [
      "C:\\Users\\Dom\\Anaconda2\\lib\\site-packages\\ipykernel\\__main__.py:1: SettingWithCopyWarning: \n",
      "A value is trying to be set on a copy of a slice from a DataFrame\n",
      "\n",
      "See the caveats in the documentation: http://pandas.pydata.org/pandas-docs/stable/indexing.html#indexing-view-versus-copy\n",
      "  if __name__ == '__main__':\n"
     ]
    }
   ],
   "source": [
    "traindata.drop(['id','member_id','funded_amnt','emp_title','desc','url','pymnt_plan','title'],1,inplace=True)\n",
    "#traindata.drop('id',1,inplace=True)\n"
   ]
  },
  {
   "cell_type": "code",
   "execution_count": 6,
   "metadata": {
    "collapsed": false
   },
   "outputs": [
    {
     "name": "stderr",
     "output_type": "stream",
     "text": [
      "C:\\Users\\Dom\\Anaconda2\\lib\\site-packages\\pandas\\core\\generic.py:2698: SettingWithCopyWarning: \n",
      "A value is trying to be set on a copy of a slice from a DataFrame.\n",
      "Try using .loc[row_indexer,col_indexer] = value instead\n",
      "\n",
      "See the caveats in the documentation: http://pandas.pydata.org/pandas-docs/stable/indexing.html#indexing-view-versus-copy\n",
      "  self[name] = value\n"
     ]
    }
   ],
   "source": [
    "from datetime import datetime\n",
    "traindata.earliest_cr_line = pd.to_datetime(traindata.earliest_cr_line)\n",
    "traindata.last_pymnt_d = pd.to_datetime(traindata.last_pymnt_d)\n",
    "traindata.next_pymnt_d = pd.to_datetime(traindata.next_pymnt_d)\n",
    "traindata.last_credit_pull_d = pd.to_datetime(traindata.last_credit_pull_d)"
   ]
  },
  {
   "cell_type": "code",
   "execution_count": 7,
   "metadata": {
    "collapsed": false
   },
   "outputs": [],
   "source": [
    "traindata.earliest_cr_line =[datetime.toordinal(x) for x in traindata.earliest_cr_line]\n",
    "traindata.last_pymnt_d =[datetime.toordinal(x) for x in traindata.last_pymnt_d]\n",
    "traindata.next_pymnt_d =[datetime.toordinal(x) for x in traindata.next_pymnt_d]\n",
    "traindata.last_credit_pull_d =[datetime.toordinal(x) for x in traindata.last_credit_pull_d]"
   ]
  },
  {
   "cell_type": "code",
   "execution_count": 8,
   "metadata": {
    "collapsed": true
   },
   "outputs": [],
   "source": [
    "traindata.int_rate = pd.Series(traindata.int_rate).str.replace('%', '').astype(float)\n",
    "traindata.revol_util= pd.Series(traindata.revol_util).str.replace('%', '').astype(float)"
   ]
  },
  {
   "cell_type": "code",
   "execution_count": 9,
   "metadata": {
    "collapsed": true
   },
   "outputs": [],
   "source": [
    "testdata.earliest_cr_line = pd.to_datetime(testdata.earliest_cr_line)\n",
    "testdata.last_pymnt_d = pd.to_datetime(testdata.last_pymnt_d)\n",
    "testdata.next_pymnt_d = pd.to_datetime(testdata.next_pymnt_d)\n",
    "testdata.last_credit_pull_d = pd.to_datetime(testdata.last_credit_pull_d)\n",
    "testdata.earliest_cr_line =[datetime.toordinal(x) for x in testdata.earliest_cr_line]\n",
    "testdata.last_pymnt_d =[datetime.toordinal(x) for x in testdata.last_pymnt_d]\n",
    "testdata.next_pymnt_d =[datetime.toordinal(x) for x in testdata.next_pymnt_d]\n",
    "testdata.last_credit_pull_d =[datetime.toordinal(x) for x in testdata.last_credit_pull_d]\n",
    "testdata.int_rate = pd.Series(testdata.int_rate).str.replace('%', '').astype(float)\n",
    "testdata.revol_util= pd.Series(testdata.revol_util).str.replace('%', '').astype(float)"
   ]
  },
  {
   "cell_type": "code",
   "execution_count": 10,
   "metadata": {
    "collapsed": false
   },
   "outputs": [],
   "source": [
    "# Import SciKit Learn functions\n",
    "from sklearn.metrics import roc_curve, auc , roc_auc_score, confusion_matrix, mean_absolute_error\n",
    "from sklearn.tree import DecisionTreeClassifier , export_graphviz\n",
    "from sklearn.cross_validation import train_test_split\n",
    "from sklearn.externals.six import StringIO\n",
    "from IPython.display import Image\n",
    "from sklearn.feature_extraction import DictVectorizer\n",
    "from sklearn import preprocessing\n",
    "from sklearn import metrics\n",
    "from sklearn import neighbors\n",
    "from sklearn.ensemble import RandomForestClassifier"
   ]
  },
  {
   "cell_type": "code",
   "execution_count": 11,
   "metadata": {
    "collapsed": false
   },
   "outputs": [],
   "source": [
    "# Rearranging the columns so that the response variable is at index 0\n",
    "cols = traindata.columns.tolist()\n",
    "cols =(cols[12:13]+cols[0:12]+cols[13:])\n",
    "traindata = traindata[cols]"
   ]
  },
  {
   "cell_type": "code",
   "execution_count": 12,
   "metadata": {
    "collapsed": true
   },
   "outputs": [],
   "source": [
    "testdata = testdata[cols]"
   ]
  },
  {
   "cell_type": "code",
   "execution_count": 13,
   "metadata": {
    "collapsed": false
   },
   "outputs": [
    {
     "name": "stderr",
     "output_type": "stream",
     "text": [
      "C:\\Users\\Dom\\Anaconda2\\lib\\site-packages\\numpy\\lib\\arraysetops.py:200: FutureWarning: numpy not_equal will not check object identity in the future. The comparison did not return the same result as suggested by the identity (`is`)) and will change.\n",
      "  flag = np.concatenate(([True], aux[1:] != aux[:-1]))\n",
      "C:\\Users\\Dom\\Anaconda2\\lib\\site-packages\\numpy\\lib\\arraysetops.py:259: FutureWarning: numpy equal will not check object identity in the future. The comparison did not return the same result as suggested by the identity (`is`)) and will change.\n",
      "  return aux[:-1][aux[1:] == aux[:-1]]\n"
     ]
    }
   ],
   "source": [
    "# This code transforms the string columns into numerical values \n",
    "le = preprocessing.LabelEncoder()\n",
    "le.fit(traindata.home_ownership)\n",
    "le.classes_\n",
    "traindata.home_ownership=le.transform(traindata.home_ownership)\n",
    "\n",
    "le.fit(traindata.term)\n",
    "le.classes_\n",
    "traindata.term=le.transform(traindata.term)\n",
    "\n",
    "le.fit(traindata.grade)\n",
    "le.classes_\n",
    "traindata.grade=le.transform(traindata.grade)\n",
    "\n",
    "\n",
    "le.fit(traindata.loan_status)\n",
    "le.classes_\n",
    "traindata.loan_status=le.transform(traindata.loan_status)\n",
    "\n",
    "le.fit(traindata.emp_length)\n",
    "le.classes_\n",
    "traindata.emp_length=le.transform(traindata.emp_length)\n",
    "\n",
    "le.fit(traindata.verification_status)\n",
    "le.classes_\n",
    "traindata.verification_status=le.transform(traindata.verification_status)\n",
    "\n",
    "le.fit(traindata.issue_d)\n",
    "le.classes_\n",
    "traindata.issue_d=le.transform(traindata.issue_d)\n",
    "\n",
    "le.fit(traindata.purpose)\n",
    "le.classes_\n",
    "traindata.purpose=le.transform(traindata.purpose)\n",
    "\n",
    "le.fit(traindata.zip_code)\n",
    "le.classes_\n",
    "traindata.zip_code=le.transform(traindata.zip_code)\n",
    "\n",
    "le.fit(traindata.addr_state)\n",
    "le.classes_\n",
    "traindata.addr_state=le.transform(traindata.addr_state)\n",
    "\n",
    "le.fit(traindata.initial_list_status)\n",
    "le.classes_\n",
    "traindata.initial_list_status=le.transform(traindata.initial_list_status)\n",
    "\n",
    "le.fit(traindata.application_type)\n",
    "le.classes_\n",
    "traindata.application_type=le.transform(traindata.application_type)\n",
    "\n",
    "le.fit(traindata.verification_status_joint)\n",
    "le.classes_\n",
    "traindata.verification_status_joint=le.transform(traindata.verification_status_joint)\n",
    "\n",
    "\n",
    "le.fit(traindata.sub_grade)\n",
    "le.classes_\n",
    "traindata.sub_grade=le.transform(traindata.sub_grade)\n",
    "# Split the target from the input variables\n",
    "X_train = traindata.iloc[:, 1:]\n",
    "y_train = traindata.iloc[:, 0]"
   ]
  },
  {
   "cell_type": "code",
   "execution_count": 14,
   "metadata": {
    "collapsed": true
   },
   "outputs": [],
   "source": [
    "# This code transforms the string columns into numerical values \n",
    "le = preprocessing.LabelEncoder()\n",
    "le.fit(testdata.home_ownership)\n",
    "le.classes_\n",
    "testdata.home_ownership=le.transform(testdata.home_ownership)\n",
    "\n",
    "le.fit(testdata.term)\n",
    "le.classes_\n",
    "testdata.term=le.transform(testdata.term)\n",
    "\n",
    "le.fit(testdata.grade)\n",
    "le.classes_\n",
    "testdata.grade=le.transform(testdata.grade)\n",
    "\n",
    "\n",
    "le.fit(testdata.loan_status)\n",
    "le.classes_\n",
    "testdata.loan_status=le.transform(testdata.loan_status)\n",
    "\n",
    "le.fit(testdata.emp_length)\n",
    "le.classes_\n",
    "testdata.emp_length=le.transform(testdata.emp_length)\n",
    "\n",
    "le.fit(testdata.verification_status)\n",
    "le.classes_\n",
    "testdata.verification_status=le.transform(testdata.verification_status)\n",
    "\n",
    "le.fit(testdata.issue_d)\n",
    "le.classes_\n",
    "testdata.issue_d=le.transform(testdata.issue_d)\n",
    "\n",
    "le.fit(testdata.purpose)\n",
    "le.classes_\n",
    "testdata.purpose=le.transform(testdata.purpose)\n",
    "\n",
    "le.fit(testdata.zip_code)\n",
    "le.classes_\n",
    "testdata.zip_code=le.transform(testdata.zip_code)\n",
    "\n",
    "le.fit(testdata.addr_state)\n",
    "le.classes_\n",
    "testdata.addr_state=le.transform(testdata.addr_state)\n",
    "\n",
    "le.fit(testdata.initial_list_status)\n",
    "le.classes_\n",
    "testdata.initial_list_status=le.transform(testdata.initial_list_status)\n",
    "\n",
    "le.fit(testdata.application_type)\n",
    "le.classes_\n",
    "testdata.application_type=le.transform(testdata.application_type)\n",
    "\n",
    "le.fit(testdata.verification_status_joint)\n",
    "le.classes_\n",
    "testdata.verification_status_joint=le.transform(testdata.verification_status_joint)\n",
    "\n",
    "\n",
    "le.fit(testdata.sub_grade)\n",
    "le.classes_\n",
    "testdata.sub_grade=le.transform(testdata.sub_grade)\n",
    "# Split the target from the input variables\n",
    "X_test = testdata.iloc[:, 1:]\n",
    "y_test = testdata.iloc[:, 0]"
   ]
  },
  {
   "cell_type": "code",
   "execution_count": 15,
   "metadata": {
    "collapsed": false
   },
   "outputs": [
    {
     "data": {
      "text/plain": [
       "32057"
      ]
     },
     "execution_count": 15,
     "metadata": {},
     "output_type": "execute_result"
    }
   ],
   "source": [
    "len(X_train.index)"
   ]
  },
  {
   "cell_type": "code",
   "execution_count": 16,
   "metadata": {
    "collapsed": false
   },
   "outputs": [],
   "source": [
    "nullcolls=(X_train.count()!=len(X_train.index))\n",
    "matches = [i for i in range(0,len(nullcolls)) if i == True]\n",
    "names=nullcolls[nullcolls]\n",
    "nadroplist=list(names.index)"
   ]
  },
  {
   "cell_type": "code",
   "execution_count": 17,
   "metadata": {
    "collapsed": false
   },
   "outputs": [],
   "source": [
    "X_train.drop(nadroplist,1,inplace=True)\n",
    "X_test.drop(nadroplist,1,inplace=True)"
   ]
  },
  {
   "cell_type": "code",
   "execution_count": 18,
   "metadata": {
    "collapsed": false
   },
   "outputs": [
    {
     "data": {
      "text/plain": [
       "KNeighborsClassifier(algorithm='auto', leaf_size=30, metric='minkowski',\n",
       "           metric_params=None, n_jobs=1, n_neighbors=50, p=2,\n",
       "           weights='uniform')"
      ]
     },
     "execution_count": 18,
     "metadata": {},
     "output_type": "execute_result"
    }
   ],
   "source": [
    "knnclf1 = neighbors.KNeighborsClassifier(2)\n",
    "knnclf2 = neighbors.KNeighborsClassifier(5)\n",
    "knnclf3 = neighbors.KNeighborsClassifier(10)\n",
    "knnclf4 = neighbors.KNeighborsClassifier(20)\n",
    "knnclf5 = neighbors.KNeighborsClassifier(50)\n",
    "\n",
    "\n",
    "# Fit the random forest classifier\n",
    "knnclf1.fit(X_train, y_train)\n",
    "knnclf2.fit(X_train, y_train)\n",
    "knnclf3.fit(X_train, y_train)\n",
    "knnclf4.fit(X_train, y_train)\n",
    "knnclf5.fit(X_train, y_train)\n",
    "\n"
   ]
  },
  {
   "cell_type": "code",
   "execution_count": 19,
   "metadata": {
    "collapsed": false
   },
   "outputs": [
    {
     "name": "stdout",
     "output_type": "stream",
     "text": [
      "0.0713661883968\n",
      "0.0541484716157\n",
      "0.0538989394885\n",
      "0.0663755458515\n",
      "0.0870867124142\n"
     ]
    }
   ],
   "source": [
    "print mean_absolute_error(y_test, knnclf1.predict(X_test))\n",
    "print mean_absolute_error(y_test, knnclf2.predict(X_test))\n",
    "print mean_absolute_error(y_test, knnclf3.predict(X_test))\n",
    "print mean_absolute_error(y_test, knnclf4.predict(X_test))\n",
    "print mean_absolute_error(y_test, knnclf5.predict(X_test))"
   ]
  },
  {
   "cell_type": "code",
   "execution_count": 20,
   "metadata": {
    "collapsed": false
   },
   "outputs": [
    {
     "name": "stdout",
     "output_type": "stream",
     "text": [
      "0.904846048266\n",
      "0.949616675803\n",
      "0.968246787242\n",
      "0.976138342046\n",
      "0.974102588076\n"
     ]
    }
   ],
   "source": [
    "probs1 = knnclf1.predict_proba(X_test)[:,1]\n",
    "probs2 = knnclf2.predict_proba(X_test)[:,1]\n",
    "probs3 = knnclf3.predict_proba(X_test)[:,1]\n",
    "probs4 = knnclf4.predict_proba(X_test)[:,1]\n",
    "probs5 = knnclf5.predict_proba(X_test)[:,1]\n",
    "print metrics.roc_auc_score(y_test,probs1)\n",
    "print metrics.roc_auc_score(y_test,probs2)\n",
    "print metrics.roc_auc_score(y_test,probs3)\n",
    "print metrics.roc_auc_score(y_test,probs4)\n",
    "print metrics.roc_auc_score(y_test,probs5)"
   ]
  },
  {
   "cell_type": "code",
   "execution_count": 22,
   "metadata": {
    "collapsed": false
   },
   "outputs": [
    {
     "name": "stdout",
     "output_type": "stream",
     "text": [
      "0.928633811603\n",
      "0.945851528384\n",
      "0.946101060512\n",
      "0.933624454148\n",
      "0.912913287586\n"
     ]
    }
   ],
   "source": [
    "print metrics.accuracy_score(y_test,knnclf1.predict(X_test))\n",
    "print metrics.accuracy_score(y_test,knnclf2.predict(X_test))\n",
    "print metrics.accuracy_score(y_test,knnclf3.predict(X_test))\n",
    "print metrics.accuracy_score(y_test,knnclf4.predict(X_test))\n",
    "print metrics.accuracy_score(y_test,knnclf5.predict(X_test))"
   ]
  },
  {
   "cell_type": "code",
   "execution_count": 23,
   "metadata": {
    "collapsed": false
   },
   "outputs": [
    {
     "data": {
      "text/html": [
       "<div>\n",
       "<table border=\"1\" class=\"dataframe\">\n",
       "  <thead>\n",
       "    <tr style=\"text-align: right;\">\n",
       "      <th>predicted</th>\n",
       "      <th>0</th>\n",
       "      <th>1</th>\n",
       "    </tr>\n",
       "    <tr>\n",
       "      <th>actual</th>\n",
       "      <th></th>\n",
       "      <th></th>\n",
       "    </tr>\n",
       "  </thead>\n",
       "  <tbody>\n",
       "    <tr>\n",
       "      <th>0</th>\n",
       "      <td>970</td>\n",
       "      <td>191</td>\n",
       "    </tr>\n",
       "    <tr>\n",
       "      <th>1</th>\n",
       "      <td>381</td>\n",
       "      <td>6473</td>\n",
       "    </tr>\n",
       "  </tbody>\n",
       "</table>\n",
       "</div>"
      ],
      "text/plain": [
       "predicted    0     1\n",
       "actual              \n",
       "0          970   191\n",
       "1          381  6473"
      ]
     },
     "execution_count": 23,
     "metadata": {},
     "output_type": "execute_result"
    }
   ],
   "source": [
    "pd.crosstab(y_test, knnclf1.predict(X_test), rownames=['actual'], colnames=['predicted'])"
   ]
  },
  {
   "cell_type": "code",
   "execution_count": 24,
   "metadata": {
    "collapsed": false
   },
   "outputs": [
    {
     "data": {
      "text/html": [
       "<div>\n",
       "<table border=\"1\" class=\"dataframe\">\n",
       "  <thead>\n",
       "    <tr style=\"text-align: right;\">\n",
       "      <th>predicted</th>\n",
       "      <th>0</th>\n",
       "      <th>1</th>\n",
       "    </tr>\n",
       "    <tr>\n",
       "      <th>actual</th>\n",
       "      <th></th>\n",
       "      <th></th>\n",
       "    </tr>\n",
       "  </thead>\n",
       "  <tbody>\n",
       "    <tr>\n",
       "      <th>0</th>\n",
       "      <td>769</td>\n",
       "      <td>392</td>\n",
       "    </tr>\n",
       "    <tr>\n",
       "      <th>1</th>\n",
       "      <td>42</td>\n",
       "      <td>6812</td>\n",
       "    </tr>\n",
       "  </tbody>\n",
       "</table>\n",
       "</div>"
      ],
      "text/plain": [
       "predicted    0     1\n",
       "actual              \n",
       "0          769   392\n",
       "1           42  6812"
      ]
     },
     "execution_count": 24,
     "metadata": {},
     "output_type": "execute_result"
    }
   ],
   "source": [
    "pd.crosstab(y_test, knnclf2.predict(X_test), rownames=['actual'], colnames=['predicted'])"
   ]
  },
  {
   "cell_type": "code",
   "execution_count": 25,
   "metadata": {
    "collapsed": false
   },
   "outputs": [
    {
     "data": {
      "text/html": [
       "<div>\n",
       "<table border=\"1\" class=\"dataframe\">\n",
       "  <thead>\n",
       "    <tr style=\"text-align: right;\">\n",
       "      <th>predicted</th>\n",
       "      <th>0</th>\n",
       "      <th>1</th>\n",
       "    </tr>\n",
       "    <tr>\n",
       "      <th>actual</th>\n",
       "      <th></th>\n",
       "      <th></th>\n",
       "    </tr>\n",
       "  </thead>\n",
       "  <tbody>\n",
       "    <tr>\n",
       "      <th>0</th>\n",
       "      <td>752</td>\n",
       "      <td>409</td>\n",
       "    </tr>\n",
       "    <tr>\n",
       "      <th>1</th>\n",
       "      <td>23</td>\n",
       "      <td>6831</td>\n",
       "    </tr>\n",
       "  </tbody>\n",
       "</table>\n",
       "</div>"
      ],
      "text/plain": [
       "predicted    0     1\n",
       "actual              \n",
       "0          752   409\n",
       "1           23  6831"
      ]
     },
     "execution_count": 25,
     "metadata": {},
     "output_type": "execute_result"
    }
   ],
   "source": [
    "pd.crosstab(y_test, knnclf3.predict(X_test), rownames=['actual'], colnames=['predicted'])"
   ]
  },
  {
   "cell_type": "code",
   "execution_count": 26,
   "metadata": {
    "collapsed": false
   },
   "outputs": [
    {
     "data": {
      "text/html": [
       "<div>\n",
       "<table border=\"1\" class=\"dataframe\">\n",
       "  <thead>\n",
       "    <tr style=\"text-align: right;\">\n",
       "      <th>predicted</th>\n",
       "      <th>0</th>\n",
       "      <th>1</th>\n",
       "    </tr>\n",
       "    <tr>\n",
       "      <th>actual</th>\n",
       "      <th></th>\n",
       "      <th></th>\n",
       "    </tr>\n",
       "  </thead>\n",
       "  <tbody>\n",
       "    <tr>\n",
       "      <th>0</th>\n",
       "      <td>635</td>\n",
       "      <td>526</td>\n",
       "    </tr>\n",
       "    <tr>\n",
       "      <th>1</th>\n",
       "      <td>6</td>\n",
       "      <td>6848</td>\n",
       "    </tr>\n",
       "  </tbody>\n",
       "</table>\n",
       "</div>"
      ],
      "text/plain": [
       "predicted    0     1\n",
       "actual              \n",
       "0          635   526\n",
       "1            6  6848"
      ]
     },
     "execution_count": 26,
     "metadata": {},
     "output_type": "execute_result"
    }
   ],
   "source": [
    "pd.crosstab(y_test, knnclf4.predict(X_test), rownames=['actual'], colnames=['predicted'])"
   ]
  },
  {
   "cell_type": "code",
   "execution_count": 27,
   "metadata": {
    "collapsed": false
   },
   "outputs": [
    {
     "data": {
      "text/html": [
       "<div>\n",
       "<table border=\"1\" class=\"dataframe\">\n",
       "  <thead>\n",
       "    <tr style=\"text-align: right;\">\n",
       "      <th>predicted</th>\n",
       "      <th>0</th>\n",
       "      <th>1</th>\n",
       "    </tr>\n",
       "    <tr>\n",
       "      <th>actual</th>\n",
       "      <th></th>\n",
       "      <th></th>\n",
       "    </tr>\n",
       "  </thead>\n",
       "  <tbody>\n",
       "    <tr>\n",
       "      <th>0</th>\n",
       "      <td>465</td>\n",
       "      <td>696</td>\n",
       "    </tr>\n",
       "    <tr>\n",
       "      <th>1</th>\n",
       "      <td>2</td>\n",
       "      <td>6852</td>\n",
       "    </tr>\n",
       "  </tbody>\n",
       "</table>\n",
       "</div>"
      ],
      "text/plain": [
       "predicted    0     1\n",
       "actual              \n",
       "0          465   696\n",
       "1            2  6852"
      ]
     },
     "execution_count": 27,
     "metadata": {},
     "output_type": "execute_result"
    }
   ],
   "source": [
    "pd.crosstab(y_test, knnclf5.predict(X_test), rownames=['actual'], colnames=['predicted'])"
   ]
  },
  {
   "cell_type": "code",
   "execution_count": 28,
   "metadata": {
    "collapsed": false
   },
   "outputs": [
    {
     "name": "stdout",
     "output_type": "stream",
     "text": [
      "0.903673482604\n",
      "0.948545788835\n",
      "0.964350053497\n",
      "0.972056360932\n",
      "0.972857315354\n"
     ]
    }
   ],
   "source": [
    "from sklearn.cross_validation import cross_val_score\n",
    "print cross_val_score(knnclf1, X_train, y_train, cv=10, scoring='roc_auc').mean()\n",
    "print cross_val_score(knnclf2, X_train, y_train, cv=10, scoring='roc_auc').mean()\n",
    "print cross_val_score(knnclf3, X_train, y_train, cv=10, scoring='roc_auc').mean()\n",
    "print cross_val_score(knnclf4, X_train, y_train, cv=10, scoring='roc_auc').mean()\n",
    "print cross_val_score(knnclf5, X_train, y_train, cv=10, scoring='roc_auc').mean()"
   ]
  },
  {
   "cell_type": "markdown",
   "metadata": {
    "collapsed": true
   },
   "source": [
    "As with regression we'll carry out the same above steps to model, but for the trimmed (non-cheating) feature set"
   ]
  },
  {
   "cell_type": "code",
   "execution_count": 30,
   "metadata": {
    "collapsed": true
   },
   "outputs": [],
   "source": [
    "X_train2=X_train.drop(['total_rec_prncp','last_pymnt_amnt','total_pymnt','total_pymnt_inv','recoveries'],1)\n",
    "X_test2=X_test.drop(['total_rec_prncp','last_pymnt_amnt','total_pymnt','total_pymnt_inv','recoveries'],1)"
   ]
  },
  {
   "cell_type": "code",
   "execution_count": 31,
   "metadata": {
    "collapsed": false
   },
   "outputs": [
    {
     "data": {
      "text/plain": [
       "KNeighborsClassifier(algorithm='auto', leaf_size=30, metric='minkowski',\n",
       "           metric_params=None, n_jobs=1, n_neighbors=50, p=2,\n",
       "           weights='uniform')"
      ]
     },
     "execution_count": 31,
     "metadata": {},
     "output_type": "execute_result"
    }
   ],
   "source": [
    "knnclf1 = neighbors.KNeighborsClassifier(2)\n",
    "knnclf2 = neighbors.KNeighborsClassifier(5)\n",
    "knnclf3 = neighbors.KNeighborsClassifier(10)\n",
    "knnclf4 = neighbors.KNeighborsClassifier(20)\n",
    "knnclf5 = neighbors.KNeighborsClassifier(50)\n",
    "\n",
    "\n",
    "# Fit the random forest classifier\n",
    "knnclf1.fit(X_train2, y_train)\n",
    "knnclf2.fit(X_train2, y_train)\n",
    "knnclf3.fit(X_train2, y_train)\n",
    "knnclf4.fit(X_train2, y_train)\n",
    "knnclf5.fit(X_train2, y_train)\n",
    "\n"
   ]
  },
  {
   "cell_type": "code",
   "execution_count": 33,
   "metadata": {
    "collapsed": false
   },
   "outputs": [
    {
     "name": "stdout",
     "output_type": "stream",
     "text": [
      "0.30343106675\n",
      "0.159076731129\n",
      "0.147972551466\n",
      "0.141484716157\n",
      "0.140237055521\n"
     ]
    }
   ],
   "source": [
    "print mean_absolute_error(y_test, knnclf1.predict(X_test2))\n",
    "print mean_absolute_error(y_test, knnclf2.predict(X_test2))\n",
    "print mean_absolute_error(y_test, knnclf3.predict(X_test2))\n",
    "print mean_absolute_error(y_test, knnclf4.predict(X_test2))\n",
    "print mean_absolute_error(y_test, knnclf5.predict(X_test2))"
   ]
  },
  {
   "cell_type": "code",
   "execution_count": 34,
   "metadata": {
    "collapsed": false
   },
   "outputs": [
    {
     "name": "stdout",
     "output_type": "stream",
     "text": [
      "0.563087637892\n",
      "0.586769716697\n",
      "0.613853306079\n",
      "0.625275620692\n",
      "0.639388669347\n"
     ]
    }
   ],
   "source": [
    "probs1 = knnclf1.predict_proba(X_test2)[:,1]\n",
    "probs2 = knnclf2.predict_proba(X_test2)[:,1]\n",
    "probs3 = knnclf3.predict_proba(X_test2)[:,1]\n",
    "probs4 = knnclf4.predict_proba(X_test2)[:,1]\n",
    "probs5 = knnclf5.predict_proba(X_test2)[:,1]\n",
    "print metrics.roc_auc_score(y_test,probs1)\n",
    "print metrics.roc_auc_score(y_test,probs2)\n",
    "print metrics.roc_auc_score(y_test,probs3)\n",
    "print metrics.roc_auc_score(y_test,probs4)\n",
    "print metrics.roc_auc_score(y_test,probs5)"
   ]
  },
  {
   "cell_type": "code",
   "execution_count": 35,
   "metadata": {
    "collapsed": false
   },
   "outputs": [
    {
     "name": "stdout",
     "output_type": "stream",
     "text": [
      "0.69656893325\n",
      "0.840923268871\n",
      "0.852027448534\n",
      "0.858515283843\n",
      "0.859762944479\n"
     ]
    }
   ],
   "source": [
    "print metrics.accuracy_score(y_test,knnclf1.predict(X_test2))\n",
    "print metrics.accuracy_score(y_test,knnclf2.predict(X_test2))\n",
    "print metrics.accuracy_score(y_test,knnclf3.predict(X_test2))\n",
    "print metrics.accuracy_score(y_test,knnclf4.predict(X_test2))\n",
    "print metrics.accuracy_score(y_test,knnclf5.predict(X_test2))"
   ]
  },
  {
   "cell_type": "code",
   "execution_count": 36,
   "metadata": {
    "collapsed": false
   },
   "outputs": [
    {
     "data": {
      "text/html": [
       "<div>\n",
       "<table border=\"1\" class=\"dataframe\">\n",
       "  <thead>\n",
       "    <tr style=\"text-align: right;\">\n",
       "      <th>predicted</th>\n",
       "      <th>0</th>\n",
       "      <th>1</th>\n",
       "    </tr>\n",
       "    <tr>\n",
       "      <th>actual</th>\n",
       "      <th></th>\n",
       "      <th></th>\n",
       "    </tr>\n",
       "  </thead>\n",
       "  <tbody>\n",
       "    <tr>\n",
       "      <th>0</th>\n",
       "      <td>422</td>\n",
       "      <td>739</td>\n",
       "    </tr>\n",
       "    <tr>\n",
       "      <th>1</th>\n",
       "      <td>1693</td>\n",
       "      <td>5161</td>\n",
       "    </tr>\n",
       "  </tbody>\n",
       "</table>\n",
       "</div>"
      ],
      "text/plain": [
       "predicted     0     1\n",
       "actual               \n",
       "0           422   739\n",
       "1          1693  5161"
      ]
     },
     "execution_count": 36,
     "metadata": {},
     "output_type": "execute_result"
    }
   ],
   "source": [
    "pd.crosstab(y_test, knnclf1.predict(X_test2), rownames=['actual'], colnames=['predicted'])"
   ]
  },
  {
   "cell_type": "code",
   "execution_count": 37,
   "metadata": {
    "collapsed": false
   },
   "outputs": [
    {
     "data": {
      "text/html": [
       "<div>\n",
       "<table border=\"1\" class=\"dataframe\">\n",
       "  <thead>\n",
       "    <tr style=\"text-align: right;\">\n",
       "      <th>predicted</th>\n",
       "      <th>0</th>\n",
       "      <th>1</th>\n",
       "    </tr>\n",
       "    <tr>\n",
       "      <th>actual</th>\n",
       "      <th></th>\n",
       "      <th></th>\n",
       "    </tr>\n",
       "  </thead>\n",
       "  <tbody>\n",
       "    <tr>\n",
       "      <th>0</th>\n",
       "      <td>99</td>\n",
       "      <td>1062</td>\n",
       "    </tr>\n",
       "    <tr>\n",
       "      <th>1</th>\n",
       "      <td>213</td>\n",
       "      <td>6641</td>\n",
       "    </tr>\n",
       "  </tbody>\n",
       "</table>\n",
       "</div>"
      ],
      "text/plain": [
       "predicted    0     1\n",
       "actual              \n",
       "0           99  1062\n",
       "1          213  6641"
      ]
     },
     "execution_count": 37,
     "metadata": {},
     "output_type": "execute_result"
    }
   ],
   "source": [
    "pd.crosstab(y_test, knnclf2.predict(X_test2), rownames=['actual'], colnames=['predicted'])"
   ]
  },
  {
   "cell_type": "code",
   "execution_count": 38,
   "metadata": {
    "collapsed": false
   },
   "outputs": [
    {
     "data": {
      "text/html": [
       "<div>\n",
       "<table border=\"1\" class=\"dataframe\">\n",
       "  <thead>\n",
       "    <tr style=\"text-align: right;\">\n",
       "      <th>predicted</th>\n",
       "      <th>0</th>\n",
       "      <th>1</th>\n",
       "    </tr>\n",
       "    <tr>\n",
       "      <th>actual</th>\n",
       "      <th></th>\n",
       "      <th></th>\n",
       "    </tr>\n",
       "  </thead>\n",
       "  <tbody>\n",
       "    <tr>\n",
       "      <th>0</th>\n",
       "      <td>81</td>\n",
       "      <td>1080</td>\n",
       "    </tr>\n",
       "    <tr>\n",
       "      <th>1</th>\n",
       "      <td>106</td>\n",
       "      <td>6748</td>\n",
       "    </tr>\n",
       "  </tbody>\n",
       "</table>\n",
       "</div>"
      ],
      "text/plain": [
       "predicted    0     1\n",
       "actual              \n",
       "0           81  1080\n",
       "1          106  6748"
      ]
     },
     "execution_count": 38,
     "metadata": {},
     "output_type": "execute_result"
    }
   ],
   "source": [
    "pd.crosstab(y_test, knnclf3.predict(X_test2), rownames=['actual'], colnames=['predicted'])"
   ]
  },
  {
   "cell_type": "code",
   "execution_count": 39,
   "metadata": {
    "collapsed": false
   },
   "outputs": [
    {
     "data": {
      "text/html": [
       "<div>\n",
       "<table border=\"1\" class=\"dataframe\">\n",
       "  <thead>\n",
       "    <tr style=\"text-align: right;\">\n",
       "      <th>predicted</th>\n",
       "      <th>0</th>\n",
       "      <th>1</th>\n",
       "    </tr>\n",
       "    <tr>\n",
       "      <th>actual</th>\n",
       "      <th></th>\n",
       "      <th></th>\n",
       "    </tr>\n",
       "  </thead>\n",
       "  <tbody>\n",
       "    <tr>\n",
       "      <th>0</th>\n",
       "      <td>42</td>\n",
       "      <td>1119</td>\n",
       "    </tr>\n",
       "    <tr>\n",
       "      <th>1</th>\n",
       "      <td>15</td>\n",
       "      <td>6839</td>\n",
       "    </tr>\n",
       "  </tbody>\n",
       "</table>\n",
       "</div>"
      ],
      "text/plain": [
       "predicted   0     1\n",
       "actual             \n",
       "0          42  1119\n",
       "1          15  6839"
      ]
     },
     "execution_count": 39,
     "metadata": {},
     "output_type": "execute_result"
    }
   ],
   "source": [
    "pd.crosstab(y_test, knnclf4.predict(X_test2), rownames=['actual'], colnames=['predicted'])"
   ]
  },
  {
   "cell_type": "code",
   "execution_count": 40,
   "metadata": {
    "collapsed": false
   },
   "outputs": [
    {
     "data": {
      "text/html": [
       "<div>\n",
       "<table border=\"1\" class=\"dataframe\">\n",
       "  <thead>\n",
       "    <tr style=\"text-align: right;\">\n",
       "      <th>predicted</th>\n",
       "      <th>0</th>\n",
       "      <th>1</th>\n",
       "    </tr>\n",
       "    <tr>\n",
       "      <th>actual</th>\n",
       "      <th></th>\n",
       "      <th></th>\n",
       "    </tr>\n",
       "  </thead>\n",
       "  <tbody>\n",
       "    <tr>\n",
       "      <th>0</th>\n",
       "      <td>37</td>\n",
       "      <td>1124</td>\n",
       "    </tr>\n",
       "    <tr>\n",
       "      <th>1</th>\n",
       "      <td>0</td>\n",
       "      <td>6854</td>\n",
       "    </tr>\n",
       "  </tbody>\n",
       "</table>\n",
       "</div>"
      ],
      "text/plain": [
       "predicted   0     1\n",
       "actual             \n",
       "0          37  1124\n",
       "1           0  6854"
      ]
     },
     "execution_count": 40,
     "metadata": {},
     "output_type": "execute_result"
    }
   ],
   "source": [
    "pd.crosstab(y_test, knnclf5.predict(X_test2), rownames=['actual'], colnames=['predicted'])"
   ]
  },
  {
   "cell_type": "code",
   "execution_count": 41,
   "metadata": {
    "collapsed": false
   },
   "outputs": [
    {
     "name": "stdout",
     "output_type": "stream",
     "text": [
      "0.553533887766\n",
      "0.584897605063\n",
      "0.605456392543\n",
      "0.622495715068\n",
      "0.642007927847\n"
     ]
    }
   ],
   "source": [
    "from sklearn.cross_validation import cross_val_score\n",
    "print cross_val_score(knnclf1, X_train2, y_train, cv=10, scoring='roc_auc').mean()\n",
    "print cross_val_score(knnclf2, X_train2, y_train, cv=10, scoring='roc_auc').mean()\n",
    "print cross_val_score(knnclf3, X_train2, y_train, cv=10, scoring='roc_auc').mean()\n",
    "print cross_val_score(knnclf4, X_train2, y_train, cv=10, scoring='roc_auc').mean()\n",
    "print cross_val_score(knnclf5, X_train2, y_train, cv=10, scoring='roc_auc').mean()"
   ]
  }
 ],
 "metadata": {
  "kernelspec": {
   "display_name": "Python 2",
   "language": "python",
   "name": "python2"
  },
  "language_info": {
   "codemirror_mode": {
    "name": "ipython",
    "version": 2
   },
   "file_extension": ".py",
   "mimetype": "text/x-python",
   "name": "python",
   "nbconvert_exporter": "python",
   "pygments_lexer": "ipython2",
   "version": "2.7.11"
  }
 },
 "nbformat": 4,
 "nbformat_minor": 0
}

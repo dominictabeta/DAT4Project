{
 "cells": [
  {
   "cell_type": "code",
   "execution_count": 226,
   "metadata": {
    "collapsed": false
   },
   "outputs": [],
   "source": [
    "\n",
    "%matplotlib inline\n",
    "\n",
    "import pandas as pd\n",
    "import sklearn\n",
    "import numpy as np\n",
    "import matplotlib as mpl\n",
    "import matplotlib.pyplot as plt\n",
    "from sklearn.cross_validation import train_test_split\n",
    "import random\n",
    "mpl.pyplot.style.use('ggplot')\n",
    "from graphviz import Digraph"
   ]
  },
  {
   "cell_type": "code",
   "execution_count": 227,
   "metadata": {
    "collapsed": false
   },
   "outputs": [],
   "source": [
    "loandata = pd.read_csv('../data/LoanStats3d.csv',skiprows=[0])"
   ]
  },
  {
   "cell_type": "code",
   "execution_count": 228,
   "metadata": {
    "collapsed": true
   },
   "outputs": [],
   "source": [
    "completedloans=loandata[(loandata.loan_status=='Charged Off')|(loandata.loan_status=='Fully Paid')]"
   ]
  },
  {
   "cell_type": "code",
   "execution_count": 229,
   "metadata": {
    "collapsed": false
   },
   "outputs": [],
   "source": [
    "# Split into test and training sets. Allocating 80% for training data\n",
    "random.seed(1234)\n",
    "traindata, testdata = train_test_split(completedloans, test_size = 0.2)"
   ]
  },
  {
   "cell_type": "markdown",
   "metadata": {},
   "source": [
    "## Data Cleaning\n"
   ]
  },
  {
   "cell_type": "code",
   "execution_count": 230,
   "metadata": {
    "collapsed": false
   },
   "outputs": [
    {
     "name": "stderr",
     "output_type": "stream",
     "text": [
      "C:\\Users\\New\\Anaconda2\\lib\\site-packages\\ipykernel\\__main__.py:1: SettingWithCopyWarning: \n",
      "A value is trying to be set on a copy of a slice from a DataFrame\n",
      "\n",
      "See the caveats in the documentation: http://pandas.pydata.org/pandas-docs/stable/indexing.html#indexing-view-versus-copy\n",
      "  if __name__ == '__main__':\n"
     ]
    }
   ],
   "source": [
    "traindata.drop(['id','member_id','funded_amnt','emp_title','desc','url','pymnt_plan','title'],1,inplace=True)\n",
    "#traindata.drop('id',1,inplace=True)\n"
   ]
  },
  {
   "cell_type": "code",
   "execution_count": 231,
   "metadata": {
    "collapsed": false
   },
   "outputs": [],
   "source": [
    "from datetime import datetime\n",
    "traindata.earliest_cr_line = pd.to_datetime(traindata.earliest_cr_line)\n",
    "traindata.last_pymnt_d = pd.to_datetime(traindata.last_pymnt_d)\n",
    "traindata.next_pymnt_d = pd.to_datetime(traindata.next_pymnt_d)\n",
    "traindata.last_credit_pull_d = pd.to_datetime(traindata.last_credit_pull_d)"
   ]
  },
  {
   "cell_type": "code",
   "execution_count": 232,
   "metadata": {
    "collapsed": false
   },
   "outputs": [],
   "source": [
    "traindata.earliest_cr_line =[datetime.toordinal(x) for x in traindata.earliest_cr_line]\n",
    "traindata.last_pymnt_d =[datetime.toordinal(x) for x in traindata.last_pymnt_d]\n",
    "traindata.next_pymnt_d =[datetime.toordinal(x) for x in traindata.next_pymnt_d]\n",
    "traindata.last_credit_pull_d =[datetime.toordinal(x) for x in traindata.last_credit_pull_d]"
   ]
  },
  {
   "cell_type": "code",
   "execution_count": 233,
   "metadata": {
    "collapsed": true
   },
   "outputs": [],
   "source": [
    "traindata.int_rate = pd.Series(traindata.int_rate).str.replace('%', '').astype(float)\n",
    "traindata.revol_util= pd.Series(traindata.revol_util).str.replace('%', '').astype(float)"
   ]
  },
  {
   "cell_type": "code",
   "execution_count": 234,
   "metadata": {
    "collapsed": true
   },
   "outputs": [],
   "source": [
    "testdata.earliest_cr_line = pd.to_datetime(testdata.earliest_cr_line)\n",
    "testdata.last_pymnt_d = pd.to_datetime(testdata.last_pymnt_d)\n",
    "testdata.next_pymnt_d = pd.to_datetime(testdata.next_pymnt_d)\n",
    "testdata.last_credit_pull_d = pd.to_datetime(testdata.last_credit_pull_d)\n",
    "testdata.earliest_cr_line =[datetime.toordinal(x) for x in testdata.earliest_cr_line]\n",
    "testdata.last_pymnt_d =[datetime.toordinal(x) for x in testdata.last_pymnt_d]\n",
    "testdata.next_pymnt_d =[datetime.toordinal(x) for x in testdata.next_pymnt_d]\n",
    "testdata.last_credit_pull_d =[datetime.toordinal(x) for x in testdata.last_credit_pull_d]\n",
    "testdata.int_rate = pd.Series(testdata.int_rate).str.replace('%', '').astype(float)\n",
    "testdata.revol_util= pd.Series(testdata.revol_util).str.replace('%', '').astype(float)"
   ]
  },
  {
   "cell_type": "code",
   "execution_count": 257,
   "metadata": {
    "collapsed": false
   },
   "outputs": [],
   "source": [
    "# Import SciKit Learn functions\n",
    "from sklearn.metrics import roc_curve, auc , roc_auc_score, confusion_matrix, mean_absolute_error\n",
    "from sklearn.tree import DecisionTreeClassifier , export_graphviz\n",
    "from sklearn.cross_validation import train_test_split\n",
    "from sklearn.externals.six import StringIO\n",
    "from IPython.display import Image\n",
    "from sklearn.feature_extraction import DictVectorizer\n",
    "from sklearn import preprocessing\n",
    "from sklearn import metrics"
   ]
  },
  {
   "cell_type": "code",
   "execution_count": 236,
   "metadata": {
    "collapsed": false
   },
   "outputs": [],
   "source": [
    "# Rearranging the columns so that the response variable is at index 0\n",
    "cols = traindata.columns.tolist()\n",
    "cols =(cols[12:13]+cols[0:12]+cols[13:])\n",
    "traindata = traindata[cols]"
   ]
  },
  {
   "cell_type": "code",
   "execution_count": 237,
   "metadata": {
    "collapsed": true
   },
   "outputs": [],
   "source": [
    "testdata = testdata[cols]"
   ]
  },
  {
   "cell_type": "code",
   "execution_count": 238,
   "metadata": {
    "collapsed": false
   },
   "outputs": [],
   "source": [
    "# This code transforms the string columns into numerical values \n",
    "le = preprocessing.LabelEncoder()\n",
    "le.fit(traindata.home_ownership)\n",
    "le.classes_\n",
    "traindata.home_ownership=le.transform(traindata.home_ownership)\n",
    "\n",
    "le.fit(traindata.term)\n",
    "le.classes_\n",
    "traindata.term=le.transform(traindata.term)\n",
    "\n",
    "le.fit(traindata.grade)\n",
    "le.classes_\n",
    "traindata.grade=le.transform(traindata.grade)\n",
    "\n",
    "\n",
    "le.fit(traindata.loan_status)\n",
    "le.classes_\n",
    "traindata.loan_status=le.transform(traindata.loan_status)\n",
    "\n",
    "le.fit(traindata.emp_length)\n",
    "le.classes_\n",
    "traindata.emp_length=le.transform(traindata.emp_length)\n",
    "\n",
    "le.fit(traindata.verification_status)\n",
    "le.classes_\n",
    "traindata.verification_status=le.transform(traindata.verification_status)\n",
    "\n",
    "le.fit(traindata.issue_d)\n",
    "le.classes_\n",
    "traindata.issue_d=le.transform(traindata.issue_d)\n",
    "\n",
    "le.fit(traindata.purpose)\n",
    "le.classes_\n",
    "traindata.purpose=le.transform(traindata.purpose)\n",
    "\n",
    "le.fit(traindata.zip_code)\n",
    "le.classes_\n",
    "traindata.zip_code=le.transform(traindata.zip_code)\n",
    "\n",
    "le.fit(traindata.addr_state)\n",
    "le.classes_\n",
    "traindata.addr_state=le.transform(traindata.addr_state)\n",
    "\n",
    "le.fit(traindata.initial_list_status)\n",
    "le.classes_\n",
    "traindata.initial_list_status=le.transform(traindata.initial_list_status)\n",
    "\n",
    "le.fit(traindata.application_type)\n",
    "le.classes_\n",
    "traindata.application_type=le.transform(traindata.application_type)\n",
    "\n",
    "le.fit(traindata.verification_status_joint)\n",
    "le.classes_\n",
    "traindata.verification_status_joint=le.transform(traindata.verification_status_joint)\n",
    "\n",
    "\n",
    "le.fit(traindata.sub_grade)\n",
    "le.classes_\n",
    "traindata.sub_grade=le.transform(traindata.sub_grade)\n",
    "# Split the target from the input variables\n",
    "X_train = traindata.iloc[:, 1:]\n",
    "y_train = traindata.iloc[:, 0]"
   ]
  },
  {
   "cell_type": "code",
   "execution_count": 239,
   "metadata": {
    "collapsed": true
   },
   "outputs": [],
   "source": [
    "# This code transforms the string columns into numerical values \n",
    "le = preprocessing.LabelEncoder()\n",
    "le.fit(testdata.home_ownership)\n",
    "le.classes_\n",
    "testdata.home_ownership=le.transform(testdata.home_ownership)\n",
    "\n",
    "le.fit(testdata.term)\n",
    "le.classes_\n",
    "testdata.term=le.transform(testdata.term)\n",
    "\n",
    "le.fit(testdata.grade)\n",
    "le.classes_\n",
    "testdata.grade=le.transform(testdata.grade)\n",
    "\n",
    "\n",
    "le.fit(testdata.loan_status)\n",
    "le.classes_\n",
    "testdata.loan_status=le.transform(testdata.loan_status)\n",
    "\n",
    "le.fit(testdata.emp_length)\n",
    "le.classes_\n",
    "testdata.emp_length=le.transform(testdata.emp_length)\n",
    "\n",
    "le.fit(testdata.verification_status)\n",
    "le.classes_\n",
    "testdata.verification_status=le.transform(testdata.verification_status)\n",
    "\n",
    "le.fit(testdata.issue_d)\n",
    "le.classes_\n",
    "testdata.issue_d=le.transform(testdata.issue_d)\n",
    "\n",
    "le.fit(testdata.purpose)\n",
    "le.classes_\n",
    "testdata.purpose=le.transform(testdata.purpose)\n",
    "\n",
    "le.fit(testdata.zip_code)\n",
    "le.classes_\n",
    "testdata.zip_code=le.transform(testdata.zip_code)\n",
    "\n",
    "le.fit(testdata.addr_state)\n",
    "le.classes_\n",
    "testdata.addr_state=le.transform(testdata.addr_state)\n",
    "\n",
    "le.fit(testdata.initial_list_status)\n",
    "le.classes_\n",
    "testdata.initial_list_status=le.transform(testdata.initial_list_status)\n",
    "\n",
    "le.fit(testdata.application_type)\n",
    "le.classes_\n",
    "testdata.application_type=le.transform(testdata.application_type)\n",
    "\n",
    "le.fit(testdata.verification_status_joint)\n",
    "le.classes_\n",
    "testdata.verification_status_joint=le.transform(testdata.verification_status_joint)\n",
    "\n",
    "\n",
    "le.fit(testdata.sub_grade)\n",
    "le.classes_\n",
    "testdata.sub_grade=le.transform(testdata.sub_grade)\n",
    "# Split the target from the input variables\n",
    "X_test = testdata.iloc[:, 1:]\n",
    "y_test = testdata.iloc[:, 0]"
   ]
  },
  {
   "cell_type": "code",
   "execution_count": 240,
   "metadata": {
    "collapsed": false
   },
   "outputs": [
    {
     "data": {
      "text/plain": [
       "('mths_since_last_delinq',\n",
       " 'mths_since_last_record',\n",
       " 'revol_util',\n",
       " 'mths_since_last_major_derog',\n",
       " 'annual_inc_joint',\n",
       " 'dti_joint',\n",
       " 'open_acc_6m',\n",
       " 'open_il_6m',\n",
       " 'open_il_12m',\n",
       " 'open_il_24m',\n",
       " 'mths_since_rcnt_il',\n",
       " 'total_bal_il',\n",
       " 'il_util',\n",
       " 'open_rv_12m',\n",
       " 'open_rv_24m',\n",
       " 'max_bal_bc',\n",
       " 'all_util',\n",
       " 'inq_fi',\n",
       " 'total_cu_tl',\n",
       " 'inq_last_12m',\n",
       " 'bc_open_to_buy',\n",
       " 'bc_util',\n",
       " 'mo_sin_old_il_acct',\n",
       " 'mths_since_recent_bc',\n",
       " 'mths_since_recent_bc_dlq',\n",
       " 'mths_since_recent_inq',\n",
       " 'mths_since_recent_revol_delinq',\n",
       " 'num_tl_120dpd_2m',\n",
       " 'percent_bc_gt_75')"
      ]
     },
     "execution_count": 240,
     "metadata": {},
     "output_type": "execute_result"
    }
   ],
   "source": [
    "nullcolls=(X_train.count()!=37216)\n",
    "matches = [i for i in range(0,len(nullcolls)) if i == True]\n",
    "names=nullcolls[nullcolls]\n",
    "nadroplist=list(names.index)\n",
    "tuple(nadroplist)"
   ]
  },
  {
   "cell_type": "code",
   "execution_count": 241,
   "metadata": {
    "collapsed": false
   },
   "outputs": [],
   "source": [
    "X_train.drop(nadroplist,1,inplace=True)\n",
    "X_test.drop(nadroplist,1,inplace=True)"
   ]
  },
  {
   "cell_type": "code",
   "execution_count": 253,
   "metadata": {
    "collapsed": false
   },
   "outputs": [],
   "source": [
    "ctree = DecisionTreeClassifier(random_state=1, criterion='gini')\n",
    "\n",
    "# Fit the decision tree classifier\n",
    "ctree.fit(X_train, y_train)\n",
    "\n",
    "# Export graph viz\n",
    "dotfile = open('tree1.dot', 'w')\n",
    "export_graphviz(ctree,out_file=dotfile, feature_names=X_train.columns)\n",
    "dotfile.close()"
   ]
  },
  {
   "cell_type": "code",
   "execution_count": null,
   "metadata": {
    "collapsed": false
   },
   "outputs": [],
   "source": [
    "dotfile"
   ]
  },
  {
   "cell_type": "code",
   "execution_count": null,
   "metadata": {
    "collapsed": false
   },
   "outputs": [],
   "source": [
    "\n",
    "#! dot.exe -Tpng tree1.dot -o tree1.png\n",
    "Image('tree1.png',unconfined=True)"
   ]
  },
  {
   "cell_type": "code",
   "execution_count": 254,
   "metadata": {
    "collapsed": false
   },
   "outputs": [
    {
     "data": {
      "text/plain": [
       "0.0013972484952708513"
      ]
     },
     "execution_count": 254,
     "metadata": {},
     "output_type": "execute_result"
    }
   ],
   "source": [
    "mean_absolute_error(y_test, ctree.predict(X_test))"
   ]
  },
  {
   "cell_type": "code",
   "execution_count": 261,
   "metadata": {
    "collapsed": false
   },
   "outputs": [
    {
     "data": {
      "text/plain": [
       "0.9975603993811446"
      ]
     },
     "execution_count": 261,
     "metadata": {},
     "output_type": "execute_result"
    }
   ],
   "source": [
    "probs = ctree.predict_proba(X_test)[:,1]\n",
    "metrics.roc_auc_score(y_test,probs)"
   ]
  },
  {
   "cell_type": "code",
   "execution_count": 258,
   "metadata": {
    "collapsed": false
   },
   "outputs": [
    {
     "data": {
      "text/plain": [
       "0.9986027515047291"
      ]
     },
     "execution_count": 258,
     "metadata": {},
     "output_type": "execute_result"
    }
   ],
   "source": [
    "metrics.accuracy_score(y_test,ctree.predict(X_test))"
   ]
  },
  {
   "cell_type": "code",
   "execution_count": 260,
   "metadata": {
    "collapsed": false
   },
   "outputs": [
    {
     "data": {
      "text/html": [
       "<div>\n",
       "<table border=\"1\" class=\"dataframe\">\n",
       "  <thead>\n",
       "    <tr style=\"text-align: right;\">\n",
       "      <th>predicted</th>\n",
       "      <th>0</th>\n",
       "      <th>1</th>\n",
       "    </tr>\n",
       "    <tr>\n",
       "      <th>actual</th>\n",
       "      <th></th>\n",
       "      <th></th>\n",
       "    </tr>\n",
       "  </thead>\n",
       "  <tbody>\n",
       "    <tr>\n",
       "      <th>0</th>\n",
       "      <td>1501</td>\n",
       "      <td>6</td>\n",
       "    </tr>\n",
       "    <tr>\n",
       "      <th>1</th>\n",
       "      <td>7</td>\n",
       "      <td>7790</td>\n",
       "    </tr>\n",
       "  </tbody>\n",
       "</table>\n",
       "</div>"
      ],
      "text/plain": [
       "predicted     0     1\n",
       "actual               \n",
       "0          1501     6\n",
       "1             7  7790"
      ]
     },
     "execution_count": 260,
     "metadata": {},
     "output_type": "execute_result"
    }
   ],
   "source": [
    "pd.crosstab(y_test, ctree.predict(X_test), rownames=['actual'], colnames=['predicted'])"
   ]
  }
 ],
 "metadata": {
  "kernelspec": {
   "display_name": "Python 2",
   "language": "python",
   "name": "python2"
  },
  "language_info": {
   "codemirror_mode": {
    "name": "ipython",
    "version": 2
   },
   "file_extension": ".py",
   "mimetype": "text/x-python",
   "name": "python",
   "nbconvert_exporter": "python",
   "pygments_lexer": "ipython2",
   "version": "2.7.11"
  }
 },
 "nbformat": 4,
 "nbformat_minor": 0
}

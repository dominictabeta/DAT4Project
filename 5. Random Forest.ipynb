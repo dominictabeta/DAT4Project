{
 "cells": [
  {
   "cell_type": "code",
   "execution_count": 1,
   "metadata": {
    "collapsed": false
   },
   "outputs": [],
   "source": [
    "\n",
    "%matplotlib inline\n",
    "\n",
    "import pandas as pd\n",
    "import sklearn\n",
    "import numpy as np\n",
    "import matplotlib as mpl\n",
    "import matplotlib.pyplot as plt\n",
    "from sklearn.cross_validation import train_test_split\n",
    "import random\n",
    "mpl.pyplot.style.use('ggplot')\n",
    "from graphviz import Digraph"
   ]
  },
  {
   "cell_type": "code",
   "execution_count": 2,
   "metadata": {
    "collapsed": false
   },
   "outputs": [
    {
     "name": "stderr",
     "output_type": "stream",
     "text": [
      "C:\\Users\\New\\Anaconda2\\lib\\site-packages\\IPython\\core\\interactiveshell.py:2723: DtypeWarning: Columns (0,19,55) have mixed types. Specify dtype option on import or set low_memory=False.\n",
      "  interactivity=interactivity, compiler=compiler, result=result)\n"
     ]
    }
   ],
   "source": [
    "loandata = pd.read_csv('../data/LoanStats3d.csv',skiprows=[0])"
   ]
  },
  {
   "cell_type": "code",
   "execution_count": 3,
   "metadata": {
    "collapsed": true
   },
   "outputs": [],
   "source": [
    "completedloans=loandata[(loandata.loan_status=='Charged Off')|(loandata.loan_status=='Fully Paid')]"
   ]
  },
  {
   "cell_type": "code",
   "execution_count": 4,
   "metadata": {
    "collapsed": false
   },
   "outputs": [],
   "source": [
    "# Split into test and training sets. Allocating 80% for training data\n",
    "random.seed(1234)\n",
    "traindata, testdata = train_test_split(completedloans, test_size = 0.2)"
   ]
  },
  {
   "cell_type": "markdown",
   "metadata": {},
   "source": [
    "## Data Cleaning\n"
   ]
  },
  {
   "cell_type": "code",
   "execution_count": 5,
   "metadata": {
    "collapsed": false
   },
   "outputs": [
    {
     "name": "stderr",
     "output_type": "stream",
     "text": [
      "C:\\Users\\New\\Anaconda2\\lib\\site-packages\\ipykernel\\__main__.py:1: SettingWithCopyWarning: \n",
      "A value is trying to be set on a copy of a slice from a DataFrame\n",
      "\n",
      "See the caveats in the documentation: http://pandas.pydata.org/pandas-docs/stable/indexing.html#indexing-view-versus-copy\n",
      "  if __name__ == '__main__':\n"
     ]
    }
   ],
   "source": [
    "traindata.drop(['id','member_id','funded_amnt','emp_title','desc','url','pymnt_plan','title'],1,inplace=True)\n",
    "#traindata.drop('id',1,inplace=True)\n"
   ]
  },
  {
   "cell_type": "code",
   "execution_count": 6,
   "metadata": {
    "collapsed": false
   },
   "outputs": [
    {
     "name": "stderr",
     "output_type": "stream",
     "text": [
      "C:\\Users\\New\\Anaconda2\\lib\\site-packages\\pandas\\core\\generic.py:2698: SettingWithCopyWarning: \n",
      "A value is trying to be set on a copy of a slice from a DataFrame.\n",
      "Try using .loc[row_indexer,col_indexer] = value instead\n",
      "\n",
      "See the caveats in the documentation: http://pandas.pydata.org/pandas-docs/stable/indexing.html#indexing-view-versus-copy\n",
      "  self[name] = value\n"
     ]
    }
   ],
   "source": [
    "from datetime import datetime\n",
    "traindata.earliest_cr_line = pd.to_datetime(traindata.earliest_cr_line)\n",
    "traindata.last_pymnt_d = pd.to_datetime(traindata.last_pymnt_d)\n",
    "traindata.next_pymnt_d = pd.to_datetime(traindata.next_pymnt_d)\n",
    "traindata.last_credit_pull_d = pd.to_datetime(traindata.last_credit_pull_d)"
   ]
  },
  {
   "cell_type": "code",
   "execution_count": 7,
   "metadata": {
    "collapsed": false
   },
   "outputs": [],
   "source": [
    "traindata.earliest_cr_line =[datetime.toordinal(x) for x in traindata.earliest_cr_line]\n",
    "traindata.last_pymnt_d =[datetime.toordinal(x) for x in traindata.last_pymnt_d]\n",
    "traindata.next_pymnt_d =[datetime.toordinal(x) for x in traindata.next_pymnt_d]\n",
    "traindata.last_credit_pull_d =[datetime.toordinal(x) for x in traindata.last_credit_pull_d]"
   ]
  },
  {
   "cell_type": "code",
   "execution_count": 8,
   "metadata": {
    "collapsed": true
   },
   "outputs": [],
   "source": [
    "traindata.int_rate = pd.Series(traindata.int_rate).str.replace('%', '').astype(float)\n",
    "traindata.revol_util= pd.Series(traindata.revol_util).str.replace('%', '').astype(float)"
   ]
  },
  {
   "cell_type": "code",
   "execution_count": 9,
   "metadata": {
    "collapsed": true
   },
   "outputs": [],
   "source": [
    "testdata.earliest_cr_line = pd.to_datetime(testdata.earliest_cr_line)\n",
    "testdata.last_pymnt_d = pd.to_datetime(testdata.last_pymnt_d)\n",
    "testdata.next_pymnt_d = pd.to_datetime(testdata.next_pymnt_d)\n",
    "testdata.last_credit_pull_d = pd.to_datetime(testdata.last_credit_pull_d)\n",
    "testdata.earliest_cr_line =[datetime.toordinal(x) for x in testdata.earliest_cr_line]\n",
    "testdata.last_pymnt_d =[datetime.toordinal(x) for x in testdata.last_pymnt_d]\n",
    "testdata.next_pymnt_d =[datetime.toordinal(x) for x in testdata.next_pymnt_d]\n",
    "testdata.last_credit_pull_d =[datetime.toordinal(x) for x in testdata.last_credit_pull_d]\n",
    "testdata.int_rate = pd.Series(testdata.int_rate).str.replace('%', '').astype(float)\n",
    "testdata.revol_util= pd.Series(testdata.revol_util).str.replace('%', '').astype(float)"
   ]
  },
  {
   "cell_type": "code",
   "execution_count": 10,
   "metadata": {
    "collapsed": false
   },
   "outputs": [],
   "source": [
    "# Import SciKit Learn functions\n",
    "from sklearn.metrics import roc_curve, auc , roc_auc_score, confusion_matrix, mean_absolute_error\n",
    "from sklearn.tree import DecisionTreeClassifier , export_graphviz\n",
    "from sklearn.cross_validation import train_test_split\n",
    "from sklearn.externals.six import StringIO\n",
    "from IPython.display import Image\n",
    "from sklearn.feature_extraction import DictVectorizer\n",
    "from sklearn import preprocessing\n",
    "from sklearn import metrics\n",
    "from sklearn.ensemble import RandomForestClassifier"
   ]
  },
  {
   "cell_type": "code",
   "execution_count": 11,
   "metadata": {
    "collapsed": false
   },
   "outputs": [],
   "source": [
    "# Rearranging the columns so that the response variable is at index 0\n",
    "cols = traindata.columns.tolist()\n",
    "cols =(cols[12:13]+cols[0:12]+cols[13:])\n",
    "traindata = traindata[cols]"
   ]
  },
  {
   "cell_type": "code",
   "execution_count": 12,
   "metadata": {
    "collapsed": true
   },
   "outputs": [],
   "source": [
    "testdata = testdata[cols]"
   ]
  },
  {
   "cell_type": "code",
   "execution_count": 13,
   "metadata": {
    "collapsed": false
   },
   "outputs": [
    {
     "name": "stderr",
     "output_type": "stream",
     "text": [
      "C:\\Users\\New\\Anaconda2\\lib\\site-packages\\numpy\\lib\\arraysetops.py:200: FutureWarning: numpy not_equal will not check object identity in the future. The comparison did not return the same result as suggested by the identity (`is`)) and will change.\n",
      "  flag = np.concatenate(([True], aux[1:] != aux[:-1]))\n",
      "C:\\Users\\New\\Anaconda2\\lib\\site-packages\\numpy\\lib\\arraysetops.py:259: FutureWarning: numpy equal will not check object identity in the future. The comparison did not return the same result as suggested by the identity (`is`)) and will change.\n",
      "  return aux[:-1][aux[1:] == aux[:-1]]\n"
     ]
    }
   ],
   "source": [
    "# This code transforms the string columns into numerical values \n",
    "le = preprocessing.LabelEncoder()\n",
    "le.fit(traindata.home_ownership)\n",
    "le.classes_\n",
    "traindata.home_ownership=le.transform(traindata.home_ownership)\n",
    "\n",
    "le.fit(traindata.term)\n",
    "le.classes_\n",
    "traindata.term=le.transform(traindata.term)\n",
    "\n",
    "le.fit(traindata.grade)\n",
    "le.classes_\n",
    "traindata.grade=le.transform(traindata.grade)\n",
    "\n",
    "\n",
    "le.fit(traindata.loan_status)\n",
    "le.classes_\n",
    "traindata.loan_status=le.transform(traindata.loan_status)\n",
    "\n",
    "le.fit(traindata.emp_length)\n",
    "le.classes_\n",
    "traindata.emp_length=le.transform(traindata.emp_length)\n",
    "\n",
    "le.fit(traindata.verification_status)\n",
    "le.classes_\n",
    "traindata.verification_status=le.transform(traindata.verification_status)\n",
    "\n",
    "le.fit(traindata.issue_d)\n",
    "le.classes_\n",
    "traindata.issue_d=le.transform(traindata.issue_d)\n",
    "\n",
    "le.fit(traindata.purpose)\n",
    "le.classes_\n",
    "traindata.purpose=le.transform(traindata.purpose)\n",
    "\n",
    "le.fit(traindata.zip_code)\n",
    "le.classes_\n",
    "traindata.zip_code=le.transform(traindata.zip_code)\n",
    "\n",
    "le.fit(traindata.addr_state)\n",
    "le.classes_\n",
    "traindata.addr_state=le.transform(traindata.addr_state)\n",
    "\n",
    "le.fit(traindata.initial_list_status)\n",
    "le.classes_\n",
    "traindata.initial_list_status=le.transform(traindata.initial_list_status)\n",
    "\n",
    "le.fit(traindata.application_type)\n",
    "le.classes_\n",
    "traindata.application_type=le.transform(traindata.application_type)\n",
    "\n",
    "le.fit(traindata.verification_status_joint)\n",
    "le.classes_\n",
    "traindata.verification_status_joint=le.transform(traindata.verification_status_joint)\n",
    "\n",
    "\n",
    "le.fit(traindata.sub_grade)\n",
    "le.classes_\n",
    "traindata.sub_grade=le.transform(traindata.sub_grade)\n",
    "# Split the target from the input variables\n",
    "X_train = traindata.iloc[:, 1:]\n",
    "y_train = traindata.iloc[:, 0]"
   ]
  },
  {
   "cell_type": "code",
   "execution_count": 14,
   "metadata": {
    "collapsed": true
   },
   "outputs": [],
   "source": [
    "# This code transforms the string columns into numerical values \n",
    "le = preprocessing.LabelEncoder()\n",
    "le.fit(testdata.home_ownership)\n",
    "le.classes_\n",
    "testdata.home_ownership=le.transform(testdata.home_ownership)\n",
    "\n",
    "le.fit(testdata.term)\n",
    "le.classes_\n",
    "testdata.term=le.transform(testdata.term)\n",
    "\n",
    "le.fit(testdata.grade)\n",
    "le.classes_\n",
    "testdata.grade=le.transform(testdata.grade)\n",
    "\n",
    "\n",
    "le.fit(testdata.loan_status)\n",
    "le.classes_\n",
    "testdata.loan_status=le.transform(testdata.loan_status)\n",
    "\n",
    "le.fit(testdata.emp_length)\n",
    "le.classes_\n",
    "testdata.emp_length=le.transform(testdata.emp_length)\n",
    "\n",
    "le.fit(testdata.verification_status)\n",
    "le.classes_\n",
    "testdata.verification_status=le.transform(testdata.verification_status)\n",
    "\n",
    "le.fit(testdata.issue_d)\n",
    "le.classes_\n",
    "testdata.issue_d=le.transform(testdata.issue_d)\n",
    "\n",
    "le.fit(testdata.purpose)\n",
    "le.classes_\n",
    "testdata.purpose=le.transform(testdata.purpose)\n",
    "\n",
    "le.fit(testdata.zip_code)\n",
    "le.classes_\n",
    "testdata.zip_code=le.transform(testdata.zip_code)\n",
    "\n",
    "le.fit(testdata.addr_state)\n",
    "le.classes_\n",
    "testdata.addr_state=le.transform(testdata.addr_state)\n",
    "\n",
    "le.fit(testdata.initial_list_status)\n",
    "le.classes_\n",
    "testdata.initial_list_status=le.transform(testdata.initial_list_status)\n",
    "\n",
    "le.fit(testdata.application_type)\n",
    "le.classes_\n",
    "testdata.application_type=le.transform(testdata.application_type)\n",
    "\n",
    "le.fit(testdata.verification_status_joint)\n",
    "le.classes_\n",
    "testdata.verification_status_joint=le.transform(testdata.verification_status_joint)\n",
    "\n",
    "\n",
    "le.fit(testdata.sub_grade)\n",
    "le.classes_\n",
    "testdata.sub_grade=le.transform(testdata.sub_grade)\n",
    "# Split the target from the input variables\n",
    "X_test = testdata.iloc[:, 1:]\n",
    "y_test = testdata.iloc[:, 0]"
   ]
  },
  {
   "cell_type": "code",
   "execution_count": 15,
   "metadata": {
    "collapsed": false
   },
   "outputs": [
    {
     "data": {
      "text/plain": [
       "37216"
      ]
     },
     "execution_count": 15,
     "metadata": {},
     "output_type": "execute_result"
    }
   ],
   "source": [
    "len(X_train.index)"
   ]
  },
  {
   "cell_type": "code",
   "execution_count": 16,
   "metadata": {
    "collapsed": false
   },
   "outputs": [],
   "source": [
    "nullcolls=(X_train.count()!=len(X_train.index))\n",
    "matches = [i for i in range(0,len(nullcolls)) if i == True]\n",
    "names=nullcolls[nullcolls]\n",
    "nadroplist=list(names.index)"
   ]
  },
  {
   "cell_type": "code",
   "execution_count": 17,
   "metadata": {
    "collapsed": false
   },
   "outputs": [],
   "source": [
    "X_train.drop(nadroplist,1,inplace=True)\n",
    "X_test.drop(nadroplist,1,inplace=True)"
   ]
  },
  {
   "cell_type": "code",
   "execution_count": 18,
   "metadata": {
    "collapsed": false
   },
   "outputs": [
    {
     "data": {
      "text/plain": [
       "RandomForestClassifier(bootstrap=True, class_weight=None, criterion='gini',\n",
       "            max_depth=None, max_features='auto', max_leaf_nodes=None,\n",
       "            min_samples_leaf=1, min_samples_split=2,\n",
       "            min_weight_fraction_leaf=0.0, n_estimators=100, n_jobs=1,\n",
       "            oob_score=True, random_state=1, verbose=0, warm_start=False)"
      ]
     },
     "execution_count": 18,
     "metadata": {},
     "output_type": "execute_result"
    }
   ],
   "source": [
    "rfclf = RandomForestClassifier(n_estimators=100, max_features='auto', oob_score=True, random_state=1)\n",
    "\n",
    "\n",
    "# Fit the random forest classifier\n",
    "rfclf.fit(X_train, y_train)\n",
    "\n"
   ]
  },
  {
   "cell_type": "code",
   "execution_count": 20,
   "metadata": {
    "collapsed": false
   },
   "outputs": [
    {
     "data": {
      "text/plain": [
       "0.99946259673258808"
      ]
     },
     "execution_count": 20,
     "metadata": {},
     "output_type": "execute_result"
    }
   ],
   "source": [
    "# compute the out-of-bag classification accuracy\n",
    "rfclf.oob_score_"
   ]
  },
  {
   "cell_type": "code",
   "execution_count": 22,
   "metadata": {
    "collapsed": false
   },
   "outputs": [
    {
     "data": {
      "text/plain": [
       "0.99944732816067317"
      ]
     },
     "execution_count": 22,
     "metadata": {},
     "output_type": "execute_result"
    }
   ],
   "source": [
    "probs = rfclf.predict_proba(X_test)[:,1]\n",
    "metrics.roc_auc_score(y_test,probs)"
   ]
  },
  {
   "cell_type": "code",
   "execution_count": 23,
   "metadata": {
    "collapsed": false
   },
   "outputs": [
    {
     "data": {
      "text/plain": [
       "0.99924763542562334"
      ]
     },
     "execution_count": 23,
     "metadata": {},
     "output_type": "execute_result"
    }
   ],
   "source": [
    "metrics.accuracy_score(y_test,rfclf.predict(X_test))"
   ]
  },
  {
   "cell_type": "code",
   "execution_count": 24,
   "metadata": {
    "collapsed": false
   },
   "outputs": [
    {
     "data": {
      "text/html": [
       "<div>\n",
       "<table border=\"1\" class=\"dataframe\">\n",
       "  <thead>\n",
       "    <tr style=\"text-align: right;\">\n",
       "      <th>predicted</th>\n",
       "      <th>0</th>\n",
       "      <th>1</th>\n",
       "    </tr>\n",
       "    <tr>\n",
       "      <th>actual</th>\n",
       "      <th></th>\n",
       "      <th></th>\n",
       "    </tr>\n",
       "  </thead>\n",
       "  <tbody>\n",
       "    <tr>\n",
       "      <th>0</th>\n",
       "      <td>1525</td>\n",
       "      <td>7</td>\n",
       "    </tr>\n",
       "    <tr>\n",
       "      <th>1</th>\n",
       "      <td>0</td>\n",
       "      <td>7772</td>\n",
       "    </tr>\n",
       "  </tbody>\n",
       "</table>\n",
       "</div>"
      ],
      "text/plain": [
       "predicted     0     1\n",
       "actual               \n",
       "0          1525     7\n",
       "1             0  7772"
      ]
     },
     "execution_count": 24,
     "metadata": {},
     "output_type": "execute_result"
    }
   ],
   "source": [
    "pd.crosstab(y_test, rfclf.predict(X_test), rownames=['actual'], colnames=['predicted'])"
   ]
  },
  {
   "cell_type": "code",
   "execution_count": 25,
   "metadata": {
    "collapsed": false
   },
   "outputs": [
    {
     "data": {
      "text/plain": [
       "0.99986908327036317"
      ]
     },
     "execution_count": 25,
     "metadata": {},
     "output_type": "execute_result"
    }
   ],
   "source": [
    "from sklearn.cross_validation import cross_val_score\n",
    "cross_val_score(rfclf, X_train, y_train, cv=10, scoring='roc_auc').mean()"
   ]
  },
  {
   "cell_type": "code",
   "execution_count": 27,
   "metadata": {
    "collapsed": false
   },
   "outputs": [
    {
     "name": "stderr",
     "output_type": "stream",
     "text": [
      "C:\\Users\\New\\Anaconda2\\lib\\site-packages\\ipykernel\\__main__.py:4: FutureWarning: by argument to sort_index is deprecated, pls use .sort_values(by=...)\n"
     ]
    },
    {
     "data": {
      "text/html": [
       "<div>\n",
       "<table border=\"1\" class=\"dataframe\">\n",
       "  <thead>\n",
       "    <tr style=\"text-align: right;\">\n",
       "      <th></th>\n",
       "      <th>feature</th>\n",
       "      <th>importance</th>\n",
       "    </tr>\n",
       "  </thead>\n",
       "  <tbody>\n",
       "    <tr>\n",
       "      <th>28</th>\n",
       "      <td>total_rec_prncp</td>\n",
       "      <td>0.227802</td>\n",
       "    </tr>\n",
       "    <tr>\n",
       "      <th>34</th>\n",
       "      <td>last_pymnt_amnt</td>\n",
       "      <td>0.196463</td>\n",
       "    </tr>\n",
       "    <tr>\n",
       "      <th>26</th>\n",
       "      <td>total_pymnt</td>\n",
       "      <td>0.147979</td>\n",
       "    </tr>\n",
       "    <tr>\n",
       "      <th>27</th>\n",
       "      <td>total_pymnt_inv</td>\n",
       "      <td>0.120997</td>\n",
       "    </tr>\n",
       "    <tr>\n",
       "      <th>31</th>\n",
       "      <td>recoveries</td>\n",
       "      <td>0.053245</td>\n",
       "    </tr>\n",
       "  </tbody>\n",
       "</table>\n",
       "</div>"
      ],
      "text/plain": [
       "            feature  importance\n",
       "28  total_rec_prncp    0.227802\n",
       "34  last_pymnt_amnt    0.196463\n",
       "26      total_pymnt    0.147979\n",
       "27  total_pymnt_inv    0.120997\n",
       "31       recoveries    0.053245"
      ]
     },
     "execution_count": 27,
     "metadata": {},
     "output_type": "execute_result"
    }
   ],
   "source": [
    "# compute the feature importances\n",
    "importances=pd.DataFrame({'feature':X_train.columns, 'importance':rfclf.feature_importances_})\n",
    "\n",
    "importances.sort_index(by='importance',ascending=False).head()"
   ]
  },
  {
   "cell_type": "markdown",
   "metadata": {
    "collapsed": true
   },
   "source": [
    "Oops, it appears the reason accuray is so high is that some features feed the answer to the learning model. In particular we feed the received principal and total received amounts to date. Ideally we want a model that predicts the final loan status before the loan commences. In this case, we won't have these features available to use as predictors. We'll try to remake the learning models without these features"
   ]
  },
  {
   "cell_type": "code",
   "execution_count": 34,
   "metadata": {
    "collapsed": false
   },
   "outputs": [],
   "source": [
    "X_train2=X_train.drop(['total_rec_prncp','last_pymnt_amnt','total_pymnt','total_pymnt_inv','recoveries'],1)\n",
    "X_test2=X_test.drop(['total_rec_prncp','last_pymnt_amnt','total_pymnt','total_pymnt_inv','recoveries'],1)"
   ]
  },
  {
   "cell_type": "code",
   "execution_count": 32,
   "metadata": {
    "collapsed": false
   },
   "outputs": [
    {
     "data": {
      "text/plain": [
       "RandomForestClassifier(bootstrap=True, class_weight=None, criterion='gini',\n",
       "            max_depth=None, max_features='auto', max_leaf_nodes=None,\n",
       "            min_samples_leaf=1, min_samples_split=2,\n",
       "            min_weight_fraction_leaf=0.0, n_estimators=100, n_jobs=1,\n",
       "            oob_score=True, random_state=1, verbose=0, warm_start=False)"
      ]
     },
     "execution_count": 32,
     "metadata": {},
     "output_type": "execute_result"
    }
   ],
   "source": [
    "# Fit the random forest classifier\n",
    "rfclf.fit(X_train2, y_train)"
   ]
  },
  {
   "cell_type": "code",
   "execution_count": 33,
   "metadata": {
    "collapsed": false
   },
   "outputs": [
    {
     "data": {
      "text/plain": [
       "0.91492906276870167"
      ]
     },
     "execution_count": 33,
     "metadata": {},
     "output_type": "execute_result"
    }
   ],
   "source": [
    "# compute the out-of-bag classification accuracy\n",
    "rfclf.oob_score_"
   ]
  },
  {
   "cell_type": "code",
   "execution_count": 35,
   "metadata": {
    "collapsed": false
   },
   "outputs": [
    {
     "data": {
      "text/plain": [
       "0.9516539169865984"
      ]
     },
     "execution_count": 35,
     "metadata": {},
     "output_type": "execute_result"
    }
   ],
   "source": [
    "probs = rfclf.predict_proba(X_test2)[:,1]\n",
    "metrics.roc_auc_score(y_test,probs)"
   ]
  },
  {
   "cell_type": "code",
   "execution_count": 36,
   "metadata": {
    "collapsed": false
   },
   "outputs": [
    {
     "data": {
      "text/plain": [
       "0.91326311263972482"
      ]
     },
     "execution_count": 36,
     "metadata": {},
     "output_type": "execute_result"
    }
   ],
   "source": [
    "metrics.accuracy_score(y_test,rfclf.predict(X_test2))"
   ]
  },
  {
   "cell_type": "code",
   "execution_count": 37,
   "metadata": {
    "collapsed": false
   },
   "outputs": [
    {
     "data": {
      "text/html": [
       "<div>\n",
       "<table border=\"1\" class=\"dataframe\">\n",
       "  <thead>\n",
       "    <tr style=\"text-align: right;\">\n",
       "      <th>predicted</th>\n",
       "      <th>0</th>\n",
       "      <th>1</th>\n",
       "    </tr>\n",
       "    <tr>\n",
       "      <th>actual</th>\n",
       "      <th></th>\n",
       "      <th></th>\n",
       "    </tr>\n",
       "  </thead>\n",
       "  <tbody>\n",
       "    <tr>\n",
       "      <th>0</th>\n",
       "      <td>839</td>\n",
       "      <td>693</td>\n",
       "    </tr>\n",
       "    <tr>\n",
       "      <th>1</th>\n",
       "      <td>114</td>\n",
       "      <td>7658</td>\n",
       "    </tr>\n",
       "  </tbody>\n",
       "</table>\n",
       "</div>"
      ],
      "text/plain": [
       "predicted    0     1\n",
       "actual              \n",
       "0          839   693\n",
       "1          114  7658"
      ]
     },
     "execution_count": 37,
     "metadata": {},
     "output_type": "execute_result"
    }
   ],
   "source": [
    "pd.crosstab(y_test, rfclf.predict(X_test2), rownames=['actual'], colnames=['predicted'])"
   ]
  },
  {
   "cell_type": "code",
   "execution_count": 41,
   "metadata": {
    "collapsed": false
   },
   "outputs": [
    {
     "data": {
      "text/plain": [
       "0.94983533371703499"
      ]
     },
     "execution_count": 41,
     "metadata": {},
     "output_type": "execute_result"
    }
   ],
   "source": [
    "cross_val_score(rfclf, X_train2, y_train, cv=10, scoring='roc_auc').mean()"
   ]
  },
  {
   "cell_type": "code",
   "execution_count": 40,
   "metadata": {
    "collapsed": false
   },
   "outputs": [
    {
     "name": "stderr",
     "output_type": "stream",
     "text": [
      "C:\\Users\\New\\Anaconda2\\lib\\site-packages\\ipykernel\\__main__.py:4: FutureWarning: by argument to sort_index is deprecated, pls use .sort_values(by=...)\n"
     ]
    },
    {
     "data": {
      "text/html": [
       "<div>\n",
       "<table border=\"1\" class=\"dataframe\">\n",
       "  <thead>\n",
       "    <tr style=\"text-align: right;\">\n",
       "      <th></th>\n",
       "      <th>feature</th>\n",
       "      <th>importance</th>\n",
       "    </tr>\n",
       "  </thead>\n",
       "  <tbody>\n",
       "    <tr>\n",
       "      <th>28</th>\n",
       "      <td>collection_recovery_fee</td>\n",
       "      <td>0.191512</td>\n",
       "    </tr>\n",
       "    <tr>\n",
       "      <th>29</th>\n",
       "      <td>last_pymnt_d</td>\n",
       "      <td>0.092538</td>\n",
       "    </tr>\n",
       "    <tr>\n",
       "      <th>31</th>\n",
       "      <td>last_credit_pull_d</td>\n",
       "      <td>0.087521</td>\n",
       "    </tr>\n",
       "    <tr>\n",
       "      <th>26</th>\n",
       "      <td>total_rec_int</td>\n",
       "      <td>0.034413</td>\n",
       "    </tr>\n",
       "    <tr>\n",
       "      <th>3</th>\n",
       "      <td>int_rate</td>\n",
       "      <td>0.027325</td>\n",
       "    </tr>\n",
       "  </tbody>\n",
       "</table>\n",
       "</div>"
      ],
      "text/plain": [
       "                    feature  importance\n",
       "28  collection_recovery_fee    0.191512\n",
       "29             last_pymnt_d    0.092538\n",
       "31       last_credit_pull_d    0.087521\n",
       "26            total_rec_int    0.034413\n",
       "3                  int_rate    0.027325"
      ]
     },
     "execution_count": 40,
     "metadata": {},
     "output_type": "execute_result"
    }
   ],
   "source": [
    "# compute the feature importances\n",
    "importances=pd.DataFrame({'feature':X_train2.columns, 'importance':rfclf.feature_importances_})\n",
    "\n",
    "importances.sort_index(by='importance',ascending=False).head()"
   ]
  },
  {
   "cell_type": "code",
   "execution_count": 44,
   "metadata": {
    "collapsed": false
   },
   "outputs": [
    {
     "data": {
      "text/plain": [
       "Index([u'loan_amnt', u'funded_amnt_inv', u'term', u'int_rate', u'installment',\n",
       "       u'grade', u'sub_grade', u'emp_length', u'home_ownership', u'annual_inc',\n",
       "       u'verification_status', u'issue_d', u'purpose', u'zip_code',\n",
       "       u'addr_state', u'dti', u'delinq_2yrs', u'earliest_cr_line',\n",
       "       u'inq_last_6mths', u'open_acc', u'pub_rec', u'revol_bal', u'total_acc',\n",
       "       u'initial_list_status', u'out_prncp', u'out_prncp_inv',\n",
       "       u'total_rec_int', u'total_rec_late_fee', u'collection_recovery_fee',\n",
       "       u'last_pymnt_d', u'next_pymnt_d', u'last_credit_pull_d',\n",
       "       u'collections_12_mths_ex_med', u'policy_code', u'application_type',\n",
       "       u'verification_status_joint', u'acc_now_delinq', u'tot_coll_amt',\n",
       "       u'tot_cur_bal', u'total_rev_hi_lim', u'acc_open_past_24mths',\n",
       "       u'avg_cur_bal', u'chargeoff_within_12_mths', u'delinq_amnt',\n",
       "       u'mo_sin_old_rev_tl_op', u'mo_sin_rcnt_rev_tl_op', u'mo_sin_rcnt_tl',\n",
       "       u'mort_acc', u'num_accts_ever_120_pd', u'num_actv_bc_tl',\n",
       "       u'num_actv_rev_tl', u'num_bc_sats', u'num_bc_tl', u'num_il_tl',\n",
       "       u'num_op_rev_tl', u'num_rev_accts', u'num_rev_tl_bal_gt_0', u'num_sats',\n",
       "       u'num_tl_30dpd', u'num_tl_90g_dpd_24m', u'num_tl_op_past_12m',\n",
       "       u'pct_tl_nvr_dlq', u'pub_rec_bankruptcies', u'tax_liens',\n",
       "       u'tot_hi_cred_lim', u'total_bal_ex_mort', u'total_bc_limit',\n",
       "       u'total_il_high_credit_limit'],\n",
       "      dtype='object')"
      ]
     },
     "execution_count": 44,
     "metadata": {},
     "output_type": "execute_result"
    }
   ],
   "source": [
    "X_train2.columns"
   ]
  }
 ],
 "metadata": {
  "kernelspec": {
   "display_name": "Python 2",
   "language": "python",
   "name": "python2"
  },
  "language_info": {
   "codemirror_mode": {
    "name": "ipython",
    "version": 2
   },
   "file_extension": ".py",
   "mimetype": "text/x-python",
   "name": "python",
   "nbconvert_exporter": "python",
   "pygments_lexer": "ipython2",
   "version": "2.7.11"
  }
 },
 "nbformat": 4,
 "nbformat_minor": 0
}
